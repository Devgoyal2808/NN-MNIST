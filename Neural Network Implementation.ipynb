{
 "cells": [
  {
   "cell_type": "markdown",
   "metadata": {},
   "source": [
    "# Forward Propogation"
   ]
  },
  {
   "cell_type": "code",
   "execution_count": 31,
   "metadata": {},
   "outputs": [],
   "source": [
    "import numpy as np"
   ]
  },
  {
   "cell_type": "code",
   "execution_count": 32,
   "metadata": {},
   "outputs": [
    {
     "data": {
      "text/plain": [
       "((4, 2), (4, 1))"
      ]
     },
     "execution_count": 32,
     "metadata": {},
     "output_type": "execute_result"
    }
   ],
   "source": [
    "x=np.array([[0,0],[0,1],[1,0],[1,1]])\n",
    "y=np.array([[0,0,0,1]]).T\n",
    "x.shape,y.shape"
   ]
  },
  {
   "cell_type": "code",
   "execution_count": 33,
   "metadata": {},
   "outputs": [],
   "source": [
    "def sig(z):\n",
    "    return 1/(1+np.exp(-z))"
   ]
  },
  {
   "cell_type": "code",
   "execution_count": 34,
   "metadata": {},
   "outputs": [],
   "source": [
    "def derivativeSig(z):\n",
    "    return sig(z)*(1-sig(z))"
   ]
  },
  {
   "cell_type": "markdown",
   "metadata": {},
   "source": [
    "#### for no hidden layer"
   ]
  },
  {
   "cell_type": "code",
   "execution_count": 74,
   "metadata": {},
   "outputs": [
    {
     "data": {
      "text/plain": [
       "(array([[ 0.08631259],\n",
       "        [-0.8636579 ]]),\n",
       " array([0.0371208]))"
      ]
     },
     "execution_count": 74,
     "metadata": {},
     "output_type": "execute_result"
    }
   ],
   "source": [
    "# we want weights from -1 to 1 np.random gives from 0 to 1 so..\n",
    "weights=2*np.random.random((2,1))-1                    # give 2 random no. 2*1 format....\n",
    "bias=2*np.random.random(1)-1\n",
    "weights,bias"
   ]
  },
  {
   "cell_type": "code",
   "execution_count": 84,
   "metadata": {},
   "outputs": [
    {
     "data": {
      "text/plain": [
       "array([[0.0016093 ],\n",
       "       [0.11486533],\n",
       "       [0.09753416],\n",
       "       [0.89691758]])"
      ]
     },
     "execution_count": 84,
     "metadata": {},
     "output_type": "execute_result"
    }
   ],
   "source": [
    "lr=0.1\n",
    "output0=x\n",
    "output=sig(np.dot(output0,weights)+bias)\n",
    "output"
   ]
  },
  {
   "cell_type": "code",
   "execution_count": 85,
   "metadata": {},
   "outputs": [
    {
     "data": {
      "text/plain": [
       "(array([[0.00088828],\n",
       "        [0.07623275],\n",
       "        [0.07662082],\n",
       "        [0.88508531]]),\n",
       " array([[4.536163  ],\n",
       "        [4.53066508]]),\n",
       " array([-7.02533405]))"
      ]
     },
     "execution_count": 85,
     "metadata": {},
     "output_type": "execute_result"
    }
   ],
   "source": [
    "# for iter in range(1000):\n",
    "#     first_term=output-y\n",
    "#     input_for_last_layer=np.dot(output0,weights)+bias\n",
    "#     second_term=derivativeSig(input_for_last_layer)\n",
    "#     first_two=first_term*second_term\n",
    "# #     first_two\n",
    "\n",
    "#     changes=np.array([[0.0],[0.0]])\n",
    "#     for i in range(2):\n",
    "#         for j in range(4):\n",
    "#             changes[i][0]+=first_two[j][0]*output0[j][i]\n",
    "#     weights=weights-lr*changes\n",
    "#     bias_change=0.0\n",
    "#     for j in range(4):\n",
    "#         bias_change+=first_two[j][0]*1\n",
    "#     bias=bias-lr*bias_change\n",
    "\n",
    "    \n",
    "# output=sig(np.dot(x,weights)+bias)\n",
    "# output,weights,bias"
   ]
  },
  {
   "cell_type": "code",
   "execution_count": 86,
   "metadata": {},
   "outputs": [
    {
     "data": {
      "text/plain": [
       "(array([[6.93385984e-04],\n",
       "        [8.30808088e-02],\n",
       "        [8.31580799e-02],\n",
       "        [9.22143453e-01]]),\n",
       " array([[4.87303842],\n",
       "        [4.8720245 ]]),\n",
       " array([-7.27323011]))"
      ]
     },
     "execution_count": 86,
     "metadata": {},
     "output_type": "execute_result"
    }
   ],
   "source": [
    "# alternate to above step....\n",
    "for iter in range(1000):\n",
    "    first_term=output-y\n",
    "    input_for_last_layer=np.dot(output0,weights)+bias\n",
    "    second_term=derivativeSig(input_for_last_layer)\n",
    "    first_two=first_term*second_term\n",
    "#     first_two\n",
    "\n",
    "    changes=np.dot(output0.T,first_two)\n",
    "    weights=weights-lr*changes\n",
    "    bias_change=np.sum(first_two)\n",
    "    bias=bias-lr*bias_change\n",
    "\n",
    "    \n",
    "output=sig(np.dot(x,weights)+bias)\n",
    "output,weights,bias"
   ]
  },
  {
   "cell_type": "markdown",
   "metadata": {},
   "source": [
    "#### for one layer"
   ]
  },
  {
   "cell_type": "code",
   "execution_count": 87,
   "metadata": {},
   "outputs": [],
   "source": [
    "# model\n",
    "#          S00     S10\n",
    "#                             Result\n",
    "#          S01     S11"
   ]
  },
  {
   "cell_type": "code",
   "execution_count": 115,
   "metadata": {},
   "outputs": [
    {
     "data": {
      "text/plain": [
       "((4, 2), (4, 1))"
      ]
     },
     "execution_count": 115,
     "metadata": {},
     "output_type": "execute_result"
    }
   ],
   "source": [
    "x=np.array([[0,0],[0,1],[1,0],[1,1]])\n",
    "y=np.array([[0,1,1,0]]).T\n",
    "x.shape,y.shape"
   ]
  },
  {
   "cell_type": "code",
   "execution_count": 116,
   "metadata": {},
   "outputs": [],
   "source": [
    "def sig(z):\n",
    "    return 1/(1+np.exp(-z))"
   ]
  },
  {
   "cell_type": "code",
   "execution_count": 117,
   "metadata": {},
   "outputs": [],
   "source": [
    "def derivativeSig(z):\n",
    "    return sig(z)*(1-sig(z))"
   ]
  },
  {
   "cell_type": "code",
   "execution_count": 118,
   "metadata": {},
   "outputs": [],
   "source": [
    "# one hidden layer weights\n",
    "wh=2*np.random.random((2,2))-1\n",
    "bh=2*np.random.random((1,2))-1\n",
    "w0=2*np.random.random((2,1))-1\n",
    "b0=2*np.random.random((1,1))-1"
   ]
  },
  {
   "cell_type": "code",
   "execution_count": 119,
   "metadata": {},
   "outputs": [],
   "source": [
    "lr=0.1"
   ]
  },
  {
   "cell_type": "code",
   "execution_count": 120,
   "metadata": {},
   "outputs": [
    {
     "data": {
      "text/plain": [
       "(array([[0.06447044],\n",
       "        [0.93944466],\n",
       "        [0.939844  ],\n",
       "        [0.06599862]]),\n",
       " array([[3.5480224 , 5.91296715],\n",
       "        [3.52699724, 5.79201333]]),\n",
       " array([[-5.40573284, -2.40811115]]),\n",
       " array([[-7.94060314],\n",
       "        [ 7.27248218]]),\n",
       " array([[-3.23979504]]))"
      ]
     },
     "execution_count": 120,
     "metadata": {},
     "output_type": "execute_result"
    }
   ],
   "source": [
    "# forward propogation with one hidden layer..\n",
    "for itr in range(10000):\n",
    "    output0=x\n",
    "    input_hidden=np.dot(output0,wh)+bh\n",
    "    output_hidden=sig(input_hidden)\n",
    "    inputForOutputLayer=np.dot(output_hidden,w0)+b0\n",
    "    output=sig(inputForOutputLayer)\n",
    "\n",
    "\n",
    "    first_term_output_layer=output-y\n",
    "    second_term_output_layer=derivativeSig(inputForOutputLayer)\n",
    "    first_two_output_layer=first_term_output_layer*second_term_output_layer\n",
    "\n",
    "    first_term_hidden_layer=np.dot(first_two_output_layer,w0.T)\n",
    "    second_term_hidden_layer=derivativeSig(input_hidden)\n",
    "    first_two_hidden_layer=first_term_hidden_layer*second_term_hidden_layer\n",
    "\n",
    "    changes_output=np.dot(output_hidden.T,first_two_output_layer)\n",
    "    changes_output_bias=np.sum(first_two_output_layer,keepdims=True,axis=0)         # keep dimension\n",
    "\n",
    "    changes_hidden=np.dot(output0.T,first_two_hidden_layer)\n",
    "    changes_hidden_bias=np.sum(first_two_hidden_layer,keepdims=True,axis=0)         # keep dimension\n",
    "\n",
    "    w0=w0-lr*changes_output\n",
    "    b0=b0-lr*changes_output_bias\n",
    "\n",
    "    wh=wh-lr*changes_hidden\n",
    "    bh=bh-lr*changes_hidden_bias\n",
    "\n",
    "\n",
    "output0=x\n",
    "input_hidden=np.dot(output0,wh)+bh\n",
    "output_hidden=sig(input_hidden)\n",
    "inputForOutputLayer=np.dot(output_hidden,w0)+b0\n",
    "output=sig(inputForOutputLayer)\n",
    "output,wh,bh,w0,b0"
   ]
  },
  {
   "cell_type": "code",
   "execution_count": 121,
   "metadata": {},
   "outputs": [
    {
     "data": {
      "text/plain": [
       "array([[0.06447044],\n",
       "       [0.93944466],\n",
       "       [0.939844  ],\n",
       "       [0.06599862]])"
      ]
     },
     "execution_count": 121,
     "metadata": {},
     "output_type": "execute_result"
    }
   ],
   "source": [
    "output"
   ]
  },
  {
   "cell_type": "code",
   "execution_count": 122,
   "metadata": {},
   "outputs": [],
   "source": [
    "# our output is close to 0 1 1 0 "
   ]
  },
  {
   "cell_type": "code",
   "execution_count": 123,
   "metadata": {},
   "outputs": [
    {
     "data": {
      "text/plain": [
       "(array([[3.5480224 , 5.91296715],\n",
       "        [3.52699724, 5.79201333]]),\n",
       " array([[-5.40573284, -2.40811115]]),\n",
       " array([[-7.94060314],\n",
       "        [ 7.27248218]]),\n",
       " array([[-3.23979504]]))"
      ]
     },
     "execution_count": 123,
     "metadata": {},
     "output_type": "execute_result"
    }
   ],
   "source": [
    "wh,bh,w0,b0"
   ]
  },
  {
   "cell_type": "code",
   "execution_count": 124,
   "metadata": {},
   "outputs": [],
   "source": [
    "# we can also see that it has implemented and , Nor and used output of them as Nor(and,Nor) to give XOR"
   ]
  }
 ],
 "metadata": {
  "kernelspec": {
   "display_name": "Python 3",
   "language": "python",
   "name": "python3"
  },
  "language_info": {
   "codemirror_mode": {
    "name": "ipython",
    "version": 3
   },
   "file_extension": ".py",
   "mimetype": "text/x-python",
   "name": "python",
   "nbconvert_exporter": "python",
   "pygments_lexer": "ipython3",
   "version": "3.8.5"
  }
 },
 "nbformat": 4,
 "nbformat_minor": 4
}
