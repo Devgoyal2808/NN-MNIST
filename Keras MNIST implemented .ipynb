{
 "cells": [
  {
   "cell_type": "code",
   "execution_count": 72,
   "id": "extra-madagascar",
   "metadata": {},
   "outputs": [],
   "source": [
    "# model we are contructing...\n",
    "\n",
    "# weight layer 784    256    256   10 \n",
    "\n",
    "# bias layer   256    256    10    "
   ]
  },
  {
   "cell_type": "code",
   "execution_count": 73,
   "id": "excessive-louis",
   "metadata": {},
   "outputs": [],
   "source": [
    "from tensorflow.examples.tutorials.mnist import input_data"
   ]
  },
  {
   "cell_type": "code",
   "execution_count": 74,
   "id": "racial-rolling",
   "metadata": {},
   "outputs": [
    {
     "name": "stdout",
     "output_type": "stream",
     "text": [
      "Extracting MNIST_data/train-images-idx3-ubyte.gz\n",
      "Extracting MNIST_data/train-labels-idx1-ubyte.gz\n",
      "Extracting MNIST_data/t10k-images-idx3-ubyte.gz\n",
      "Extracting MNIST_data/t10k-labels-idx1-ubyte.gz\n"
     ]
    }
   ],
   "source": [
    "mnist=input_data.read_data_sets(\"MNIST_data/\",one_hot=True)"
   ]
  },
  {
   "cell_type": "code",
   "execution_count": 75,
   "id": "exterior-arlington",
   "metadata": {},
   "outputs": [
    {
     "data": {
      "text/plain": [
       "((55000, 784), (55000, 10), (10000, 784), (10000, 10))"
      ]
     },
     "execution_count": 75,
     "metadata": {},
     "output_type": "execute_result"
    }
   ],
   "source": [
    "x_train=mnist.train.images\n",
    "x_test=mnist.test.images\n",
    "y_train=mnist.train.labels\n",
    "y_test=mnist.test.labels\n",
    "x_train.shape,y_train.shape,x_test.shape,y_test.shape"
   ]
  },
  {
   "cell_type": "code",
   "execution_count": 77,
   "id": "differential-amplifier",
   "metadata": {},
   "outputs": [],
   "source": [
    "from keras.models import Sequential\n",
    "from keras.layers import Dense\n",
    "import keras"
   ]
  },
  {
   "cell_type": "code",
   "execution_count": 78,
   "id": "religious-grace",
   "metadata": {},
   "outputs": [],
   "source": [
    "model=Sequential()"
   ]
  },
  {
   "cell_type": "code",
   "execution_count": 79,
   "id": "exposed-meter",
   "metadata": {},
   "outputs": [],
   "source": [
    "layer1=Dense(units=256,activation='sigmoid',input_dim=784)\n",
    "model.add(layer1)\n",
    "model.add(Dense(units=256,activation='sigmoid'))\n",
    "model.add(Dense(units=10,activation='sigmoid'))"
   ]
  },
  {
   "cell_type": "code",
   "execution_count": 80,
   "id": "thousand-associate",
   "metadata": {},
   "outputs": [],
   "source": [
    "model.compile(optimizer='adam',loss='categorical_crossentropy',metrics=['categorical_accuracy'])"
   ]
  },
  {
   "cell_type": "code",
   "execution_count": 81,
   "id": "alike-brass",
   "metadata": {},
   "outputs": [
    {
     "name": "stdout",
     "output_type": "stream",
     "text": [
      "Epoch 1/25\n",
      "55000/55000 [==============================] - 2s 28us/step - loss: 1.1952 - categorical_accuracy: 0.7103\n",
      "Epoch 2/25\n",
      "55000/55000 [==============================] - 1s 23us/step - loss: 0.3620 - categorical_accuracy: 0.9034\n",
      "Epoch 3/25\n",
      "55000/55000 [==============================] - 1s 22us/step - loss: 0.2717 - categorical_accuracy: 0.9224\n",
      "Epoch 4/25\n",
      "55000/55000 [==============================] - 1s 23us/step - loss: 0.2315 - categorical_accuracy: 0.9324\n",
      "Epoch 5/25\n",
      "55000/55000 [==============================] - 1s 23us/step - loss: 0.2010 - categorical_accuracy: 0.9414\n",
      "Epoch 6/25\n",
      "55000/55000 [==============================] - 1s 22us/step - loss: 0.1771 - categorical_accuracy: 0.9482\n",
      "Epoch 7/25\n",
      "55000/55000 [==============================] - 1s 21us/step - loss: 0.1572 - categorical_accuracy: 0.9538\n",
      "Epoch 8/25\n",
      "55000/55000 [==============================] - 1s 21us/step - loss: 0.1414 - categorical_accuracy: 0.9586\n",
      "Epoch 9/25\n",
      "55000/55000 [==============================] - 1s 22us/step - loss: 0.1267 - categorical_accuracy: 0.9627\n",
      "Epoch 10/25\n",
      "55000/55000 [==============================] - 1s 23us/step - loss: 0.1147 - categorical_accuracy: 0.9661\n",
      "Epoch 11/25\n",
      "55000/55000 [==============================] - 1s 22us/step - loss: 0.1036 - categorical_accuracy: 0.9698\n",
      "Epoch 12/25\n",
      "55000/55000 [==============================] - 1s 21us/step - loss: 0.0955 - categorical_accuracy: 0.9721\n",
      "Epoch 13/25\n",
      "55000/55000 [==============================] - 1s 21us/step - loss: 0.0854 - categorical_accuracy: 0.9756\n",
      "Epoch 14/25\n",
      "55000/55000 [==============================] - 1s 21us/step - loss: 0.0776 - categorical_accuracy: 0.9780\n",
      "Epoch 15/25\n",
      "55000/55000 [==============================] - 1s 22us/step - loss: 0.0706 - categorical_accuracy: 0.9797\n",
      "Epoch 16/25\n",
      "55000/55000 [==============================] - 1s 22us/step - loss: 0.0643 - categorical_accuracy: 0.9818\n",
      "Epoch 17/25\n",
      "55000/55000 [==============================] - 1s 22us/step - loss: 0.0594 - categorical_accuracy: 0.9829\n",
      "Epoch 18/25\n",
      "55000/55000 [==============================] - 1s 25us/step - loss: 0.0531 - categorical_accuracy: 0.9847\n",
      "Epoch 19/25\n",
      "55000/55000 [==============================] - 1s 22us/step - loss: 0.0481 - categorical_accuracy: 0.9867\n",
      "Epoch 20/25\n",
      "55000/55000 [==============================] - 1s 22us/step - loss: 0.0437 - categorical_accuracy: 0.9882\n",
      "Epoch 21/25\n",
      "55000/55000 [==============================] - 1s 21us/step - loss: 0.0392 - categorical_accuracy: 0.9893\n",
      "Epoch 22/25\n",
      "55000/55000 [==============================] - 1s 21us/step - loss: 0.0355 - categorical_accuracy: 0.9905\n",
      "Epoch 23/25\n",
      "55000/55000 [==============================] - 1s 22us/step - loss: 0.0329 - categorical_accuracy: 0.9917\n",
      "Epoch 24/25\n",
      "55000/55000 [==============================] - 1s 22us/step - loss: 0.0292 - categorical_accuracy: 0.9929\n",
      "Epoch 25/25\n",
      "55000/55000 [==============================] - 1s 24us/step - loss: 0.0267 - categorical_accuracy: 0.9936\n"
     ]
    },
    {
     "data": {
      "text/plain": [
       "<keras.callbacks.callbacks.History at 0x1c10084cd88>"
      ]
     },
     "execution_count": 81,
     "metadata": {},
     "output_type": "execute_result"
    }
   ],
   "source": [
    "model.fit(x_train,y_train,epochs=25,batch_size=550)    "
   ]
  },
  {
   "cell_type": "code",
   "execution_count": 83,
   "id": "centered-montreal",
   "metadata": {},
   "outputs": [
    {
     "name": "stdout",
     "output_type": "stream",
     "text": [
      "10000/10000 [==============================] - 0s 45us/step\n"
     ]
    },
    {
     "data": {
      "text/plain": [
       "[0.07062698334027082, 0.9789000153541565]"
      ]
     },
     "execution_count": 83,
     "metadata": {},
     "output_type": "execute_result"
    }
   ],
   "source": [
    "predictions=model.predict(x_test)\n",
    "score=model.evaluate(x_test,y_test)\n",
    "score"
   ]
  },
  {
   "cell_type": "code",
   "execution_count": 84,
   "id": "personal-anime",
   "metadata": {},
   "outputs": [
    {
     "name": "stdout",
     "output_type": "stream",
     "text": [
      "we get 97.89000153541565 % accuracy\n"
     ]
    }
   ],
   "source": [
    "print('we get',score[1]*100,'% accuracy')"
   ]
  }
 ],
 "metadata": {
  "kernelspec": {
   "display_name": "newenv",
   "language": "python",
   "name": "newenv"
  },
  "language_info": {
   "codemirror_mode": {
    "name": "ipython",
    "version": 3
   },
   "file_extension": ".py",
   "mimetype": "text/x-python",
   "name": "python",
   "nbconvert_exporter": "python",
   "pygments_lexer": "ipython3",
   "version": "3.7.10"
  }
 },
 "nbformat": 4,
 "nbformat_minor": 5
}
