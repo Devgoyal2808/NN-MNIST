{
 "cells": [
  {
   "cell_type": "code",
   "execution_count": 1,
   "id": "violent-birmingham",
   "metadata": {},
   "outputs": [],
   "source": [
    "import tensorflow as tf"
   ]
  },
  {
   "cell_type": "code",
   "execution_count": 2,
   "id": "based-proof",
   "metadata": {},
   "outputs": [],
   "source": [
    "from tensorflow.examples.tutorials.mnist import input_data"
   ]
  },
  {
   "cell_type": "code",
   "execution_count": 32,
   "id": "dangerous-progress",
   "metadata": {},
   "outputs": [
    {
     "name": "stdout",
     "output_type": "stream",
     "text": [
      "Extracting MNIST_data/train-images-idx3-ubyte.gz\n",
      "Extracting MNIST_data/train-labels-idx1-ubyte.gz\n",
      "Extracting MNIST_data/t10k-images-idx3-ubyte.gz\n",
      "Extracting MNIST_data/t10k-labels-idx1-ubyte.gz\n"
     ]
    }
   ],
   "source": [
    "mnist=input_data.read_data_sets(\"MNIST_data/\",one_hot=True)"
   ]
  },
  {
   "cell_type": "code",
   "execution_count": 4,
   "id": "beneficial-boundary",
   "metadata": {},
   "outputs": [
    {
     "data": {
      "text/plain": [
       "Datasets(train=<tensorflow.contrib.learn.python.learn.datasets.mnist.DataSet object at 0x00000201EF968188>, validation=<tensorflow.contrib.learn.python.learn.datasets.mnist.DataSet object at 0x00000201E9D45B48>, test=<tensorflow.contrib.learn.python.learn.datasets.mnist.DataSet object at 0x00000201F0486688>)"
      ]
     },
     "execution_count": 4,
     "metadata": {},
     "output_type": "execute_result"
    }
   ],
   "source": [
    "mnist"
   ]
  },
  {
   "cell_type": "code",
   "execution_count": 5,
   "id": "stupid-texas",
   "metadata": {},
   "outputs": [
    {
     "data": {
      "text/plain": [
       "((55000, 784), (55000, 10))"
      ]
     },
     "execution_count": 5,
     "metadata": {},
     "output_type": "execute_result"
    }
   ],
   "source": [
    "mnist.train.images.shape,mnist.train.labels.shape"
   ]
  },
  {
   "cell_type": "code",
   "execution_count": 6,
   "id": "brown-bullet",
   "metadata": {},
   "outputs": [
    {
     "data": {
      "text/plain": [
       "array([0., 0., 0., 0., 0., 0., 0., 1., 0., 0.])"
      ]
     },
     "execution_count": 6,
     "metadata": {},
     "output_type": "execute_result"
    }
   ],
   "source": [
    "mnist.train.labels[0]"
   ]
  },
  {
   "cell_type": "code",
   "execution_count": 7,
   "id": "complex-episode",
   "metadata": {},
   "outputs": [
    {
     "data": {
      "text/plain": [
       "(10000, 784)"
      ]
     },
     "execution_count": 7,
     "metadata": {},
     "output_type": "execute_result"
    }
   ],
   "source": [
    "mnist.test.images.shape"
   ]
  },
  {
   "cell_type": "code",
   "execution_count": 8,
   "id": "personalized-reset",
   "metadata": {},
   "outputs": [],
   "source": [
    "# this is multiclassification ... output is from 0 to 9 so we need output one hot encoded.. can be done while loading dataset"
   ]
  },
  {
   "cell_type": "code",
   "execution_count": 9,
   "id": "animated-double",
   "metadata": {},
   "outputs": [],
   "source": [
    "import numpy as np\n",
    "from matplotlib import pyplot as plt"
   ]
  },
  {
   "cell_type": "code",
   "execution_count": 10,
   "id": "alternative-guarantee",
   "metadata": {},
   "outputs": [
    {
     "data": {
      "image/png": "[encoded data removed]",
      "text/plain": [
       "<Figure size 432x288 with 1 Axes>"
      ]
     },
     "metadata": {
      "needs_background": "light"
     },
     "output_type": "display_data"
    }
   ],
   "source": [
    "first_image=mnist.train.images[4]\n",
    "first_image=np.array(first_image,dtype='float')\n",
    "first_image=first_image.reshape((28,28))\n",
    "plt.imshow(first_image)\n",
    "plt.show()"
   ]
  },
  {
   "cell_type": "code",
   "execution_count": 11,
   "id": "later-bobby",
   "metadata": {},
   "outputs": [],
   "source": [
    "# model we are contructing...\n",
    "\n",
    "# weight layer 784    256    256   10 \n",
    "\n",
    "# bias layer   256    256    10    "
   ]
  },
  {
   "cell_type": "code",
   "execution_count": 12,
   "id": "arbitrary-material",
   "metadata": {},
   "outputs": [
    {
     "name": "stdout",
     "output_type": "stream",
     "text": [
      "[[ 0.19045609 -0.42086086]]\n"
     ]
    }
   ],
   "source": [
    "with tf.Session() as sess:\n",
    "    print(tf.random_normal([1,2]).eval())     # create random array"
   ]
  },
  {
   "cell_type": "code",
   "execution_count": 13,
   "id": "invisible-sheep",
   "metadata": {},
   "outputs": [],
   "source": [
    "n_input=784\n",
    "n_hidden_1=256\n",
    "n_hidden_2=256\n",
    "n_classes=10\n",
    "\n",
    "weights={\n",
    "    'h1':tf.Variable(tf.random_normal([n_input,n_hidden_1])),\n",
    "    'h2':tf.Variable(tf.random_normal([n_hidden_1,n_hidden_2])),\n",
    "    'out':tf.Variable(tf.random_normal([n_hidden_2,n_classes])),\n",
    "}\n",
    "biases={\n",
    "    'h1':tf.Variable(tf.random_normal([n_hidden_1])),\n",
    "    'h2':tf.Variable(tf.random_normal([n_hidden_2])),\n",
    "    'out':tf.Variable(tf.random_normal([n_classes])),\n",
    "}"
   ]
  },
  {
   "cell_type": "code",
   "execution_count": 14,
   "id": "conceptual-region",
   "metadata": {},
   "outputs": [
    {
     "data": {
      "text/plain": [
       "[<tf.Variable 'Variable:0' shape=(784, 256) dtype=float32_ref>,\n",
       " <tf.Variable 'Variable_1:0' shape=(256, 256) dtype=float32_ref>,\n",
       " <tf.Variable 'Variable_2:0' shape=(256, 10) dtype=float32_ref>,\n",
       " <tf.Variable 'Variable_3:0' shape=(256,) dtype=float32_ref>,\n",
       " <tf.Variable 'Variable_4:0' shape=(256,) dtype=float32_ref>,\n",
       " <tf.Variable 'Variable_5:0' shape=(10,) dtype=float32_ref>]"
      ]
     },
     "execution_count": 14,
     "metadata": {},
     "output_type": "execute_result"
    }
   ],
   "source": [
    "tf.trainable_variables()          # only above 6 are trainables... optimizer will change there values in model"
   ]
  },
  {
   "cell_type": "code",
   "execution_count": 15,
   "id": "native-athens",
   "metadata": {},
   "outputs": [],
   "source": [
    "def forward_propagation(x,weights,biases):\n",
    "    in_layer1=tf.add(tf.matmul(x,weights['h1']),biases['h1'])\n",
    "    out_layer1=tf.nn.relu(in_layer1)\n",
    "    \n",
    "    in_layer2=tf.add(tf.matmul(out_layer1,weights['h2']),biases['h2'])\n",
    "    out_layer2=tf.nn.relu(in_layer2)\n",
    "    \n",
    "    output=tf.add(tf.matmul(out_layer2,weights['out']),biases['out'])\n",
    "    return(output)"
   ]
  },
  {
   "cell_type": "code",
   "execution_count": 16,
   "id": "aquatic-alexandria",
   "metadata": {},
   "outputs": [],
   "source": [
    "sess=tf.Session()\n",
    "sess.run(tf.global_variables_initializer())"
   ]
  },
  {
   "cell_type": "code",
   "execution_count": 17,
   "id": "european-activity",
   "metadata": {},
   "outputs": [],
   "source": [
    "x=tf.placeholder('float',[None,n_input])\n",
    "y=tf.placeholder(tf.int32,[None,n_classes])\n",
    "pred=forward_propagation(x,weights,biases)"
   ]
  },
  {
   "cell_type": "code",
   "execution_count": 18,
   "id": "conventional-password",
   "metadata": {},
   "outputs": [],
   "source": [
    "predictions=tf.argmax(pred,1)                        # gives index with max val in row , 1 is for row wise\n",
    "true_labels=tf.argmax(y,1)             \n",
    "correct_predictions=tf.equal(predictions,true_labels)"
   ]
  },
  {
   "cell_type": "code",
   "execution_count": 19,
   "id": "rural-wealth",
   "metadata": {},
   "outputs": [
    {
     "data": {
      "text/plain": [
       "(array([9, 9, 7, ..., 9, 9, 9], dtype=int64),\n",
       " array([7, 3, 4, ..., 5, 6, 8], dtype=int64),\n",
       " array([False, False, False, ..., False, False, False]))"
      ]
     },
     "execution_count": 19,
     "metadata": {},
     "output_type": "execute_result"
    }
   ],
   "source": [
    "pred_eval,labels,correct_pred=sess.run([predictions,true_labels,correct_predictions],\n",
    "                                       feed_dict={x:mnist.train.images,y:mnist.train.labels})\n",
    "pred_eval,labels,correct_pred"
   ]
  },
  {
   "cell_type": "code",
   "execution_count": 20,
   "id": "every-brighton",
   "metadata": {},
   "outputs": [
    {
     "data": {
      "text/plain": [
       "3867"
      ]
     },
     "execution_count": 20,
     "metadata": {},
     "output_type": "execute_result"
    }
   ],
   "source": [
    "correct_pred.sum()"
   ]
  },
  {
   "cell_type": "markdown",
   "id": "burning-vegetation",
   "metadata": {},
   "source": [
    "### Lets optimize algo"
   ]
  },
  {
   "cell_type": "code",
   "execution_count": 21,
   "id": "certain-edinburgh",
   "metadata": {},
   "outputs": [],
   "source": [
    "n_input=784\n",
    "n_hidden_1=256\n",
    "n_hidden_2=256\n",
    "n_classes=10\n",
    "\n",
    "weights={\n",
    "    'h1':tf.Variable(tf.random_normal([n_input,n_hidden_1])),\n",
    "    'h2':tf.Variable(tf.random_normal([n_hidden_1,n_hidden_2])),\n",
    "    'out':tf.Variable(tf.random_normal([n_hidden_2,n_classes])),\n",
    "}\n",
    "biases={\n",
    "    'h1':tf.Variable(tf.random_normal([n_hidden_1])),\n",
    "    'h2':tf.Variable(tf.random_normal([n_hidden_2])),\n",
    "    'out':tf.Variable(tf.random_normal([n_classes])),\n",
    "}"
   ]
  },
  {
   "cell_type": "code",
   "execution_count": 22,
   "id": "critical-duration",
   "metadata": {},
   "outputs": [],
   "source": [
    "sess=tf.Session()\n",
    "sess.run(tf.global_variables_initializer())"
   ]
  },
  {
   "cell_type": "code",
   "execution_count": 23,
   "id": "excited-trade",
   "metadata": {},
   "outputs": [],
   "source": [
    "x=tf.placeholder('float',[None,n_input])\n",
    "y=tf.placeholder(tf.int32,[None,n_classes])\n",
    "pred=forward_propagation(x,weights,biases)"
   ]
  },
  {
   "cell_type": "code",
   "execution_count": 24,
   "id": "rubber-disposal",
   "metadata": {},
   "outputs": [],
   "source": [
    "# cross entropy                 sigma -ylog(h)-(1-y)log(1-h)"
   ]
  },
  {
   "cell_type": "code",
   "execution_count": 31,
   "id": "muslim-graph",
   "metadata": {},
   "outputs": [],
   "source": [
    "cost=tf.reduce_mean(tf.nn.softmax_cross_entropy_with_logits(logits=pred,labels=y)) #will take mean of all values..."
   ]
  },
  {
   "cell_type": "code",
   "execution_count": 26,
   "id": "funny-indiana",
   "metadata": {},
   "outputs": [],
   "source": [
    "optimizer=tf.train.AdamOptimizer(learning_rate=0.01)\n",
    "optimize=optimizer.minimize(cost)"
   ]
  },
  {
   "cell_type": "code",
   "execution_count": 27,
   "id": "professional-conflict",
   "metadata": {},
   "outputs": [],
   "source": [
    "sess=tf.Session()\n",
    "sess.run(tf.global_variables_initializer())"
   ]
  },
  {
   "cell_type": "code",
   "execution_count": 28,
   "id": "rational-framing",
   "metadata": {},
   "outputs": [
    {
     "name": "stdout",
     "output_type": "stream",
     "text": [
      "1686.7174\n",
      "1123.8475\n",
      "842.9405\n",
      "616.02246\n",
      "447.90735\n",
      "320.74362\n",
      "249.68443\n",
      "211.92633\n",
      "189.7556\n",
      "173.22804\n",
      "156.37975\n",
      "138.69205\n",
      "122.56753\n",
      "110.54528\n",
      "102.68139\n",
      "97.410034\n",
      "92.959366\n",
      "88.90309\n",
      "85.2779\n",
      "81.882744\n",
      "78.30262\n",
      "74.3202\n",
      "70.23933\n",
      "66.56705\n",
      "63.598553\n"
     ]
    }
   ],
   "source": [
    "for i in range(25):\n",
    "    c,_=sess.run([cost,optimize],feed_dict={x:mnist.train.images,y:mnist.train.labels}) \n",
    "    print(c)"
   ]
  },
  {
   "cell_type": "code",
   "execution_count": 29,
   "id": "beginning-horror",
   "metadata": {},
   "outputs": [
    {
     "data": {
      "text/plain": [
       "0.8667090909090909"
      ]
     },
     "execution_count": 29,
     "metadata": {},
     "output_type": "execute_result"
    }
   ],
   "source": [
    "predictions=tf.argmax(pred,1)                   \n",
    "correct_labels=tf.argmax(y,1)             \n",
    "correct_predictions=tf.equal(predictions,correct_labels)\n",
    "pred_eval,correct_pred=sess.run([predictions,correct_predictions],\n",
    "                                feed_dict={x:mnist.train.images,y:mnist.train.labels})\n",
    "correct_pred.sum()/55000"
   ]
  },
  {
   "cell_type": "markdown",
   "id": "needed-style",
   "metadata": {},
   "source": [
    "### Batch gradient desecent...               \n",
    "##### more optimization , stochastic regression"
   ]
  },
  {
   "cell_type": "code",
   "execution_count": 30,
   "id": "incomplete-history",
   "metadata": {},
   "outputs": [],
   "source": [
    "# 100 batches sooo 55000 data will be of 550 each..."
   ]
  },
  {
   "cell_type": "code",
   "execution_count": 33,
   "id": "posted-novelty",
   "metadata": {},
   "outputs": [],
   "source": [
    "n_input=784\n",
    "n_hidden_1=256\n",
    "n_hidden_2=256\n",
    "n_classes=10\n",
    "\n",
    "weights={\n",
    "    'h1':tf.Variable(tf.random_normal([n_input,n_hidden_1])),\n",
    "    'h2':tf.Variable(tf.random_normal([n_hidden_1,n_hidden_2])),\n",
    "    'out':tf.Variable(tf.random_normal([n_hidden_2,n_classes])),\n",
    "}\n",
    "biases={\n",
    "    'h1':tf.Variable(tf.random_normal([n_hidden_1])),\n",
    "    'h2':tf.Variable(tf.random_normal([n_hidden_2])),\n",
    "    'out':tf.Variable(tf.random_normal([n_classes])),\n",
    "}"
   ]
  },
  {
   "cell_type": "code",
   "execution_count": 34,
   "id": "visible-captain",
   "metadata": {},
   "outputs": [],
   "source": [
    "sess=tf.Session()\n",
    "sess.run(tf.global_variables_initializer())"
   ]
  },
  {
   "cell_type": "code",
   "execution_count": 35,
   "id": "southeast-paris",
   "metadata": {},
   "outputs": [],
   "source": [
    "x=tf.placeholder('float',[None,n_input])\n",
    "y=tf.placeholder(tf.int32,[None,n_classes])\n",
    "pred=forward_propagation(x,weights,biases)"
   ]
  },
  {
   "cell_type": "code",
   "execution_count": 36,
   "id": "heard-knitting",
   "metadata": {},
   "outputs": [],
   "source": [
    "cost=tf.reduce_mean(tf.nn.softmax_cross_entropy_with_logits(logits=pred,labels=y)) #will take mean of all values..."
   ]
  },
  {
   "cell_type": "code",
   "execution_count": 37,
   "id": "auburn-prerequisite",
   "metadata": {},
   "outputs": [],
   "source": [
    "optimizer=tf.train.AdamOptimizer(learning_rate=0.01)\n",
    "optimize=optimizer.minimize(cost)"
   ]
  },
  {
   "cell_type": "code",
   "execution_count": 38,
   "id": "artificial-continent",
   "metadata": {},
   "outputs": [],
   "source": [
    "sess=tf.Session()\n",
    "sess.run(tf.global_variables_initializer())"
   ]
  },
  {
   "cell_type": "code",
   "execution_count": 39,
   "id": "experimental-gauge",
   "metadata": {},
   "outputs": [
    {
     "name": "stdout",
     "output_type": "stream",
     "text": [
      "24381.77611708641\n",
      "4377.345872759819\n",
      "2371.040146792712\n",
      "1597.64520641428\n",
      "1238.6135417291864\n",
      "1224.8525654277926\n",
      "1069.5646142725177\n",
      "950.1585012834903\n",
      "832.9566579408449\n",
      "788.4648754738531\n",
      "666.3928540590806\n",
      "628.9274397712809\n",
      "563.6283224804827\n",
      "464.43869552721657\n",
      "397.7013237790753\n",
      "415.4845966997617\n",
      "374.80402712853703\n",
      "399.5033047775346\n",
      "325.28070337904876\n",
      "278.33385497615757\n",
      "337.5430633275022\n",
      "235.49081928464477\n",
      "195.02402723942305\n",
      "184.93627471577256\n",
      "180.02326945787578\n"
     ]
    }
   ],
   "source": [
    "batch_size=100\n",
    "for i in range(25):\n",
    "    num_batches=int(mnist.train.num_examples/batch_size)\n",
    "    total_cost=0\n",
    "    for j in range(num_batches):\n",
    "        batch_x,batch_y=mnist.train.next_batch(batch_size)\n",
    "        c,_=sess.run([cost,optimize],feed_dict={x:batch_x,y:batch_y}) \n",
    "        total_cost+=c\n",
    "    print(total_cost)"
   ]
  },
  {
   "cell_type": "code",
   "execution_count": 40,
   "id": "familiar-translation",
   "metadata": {},
   "outputs": [
    {
     "data": {
      "text/plain": [
       "0.9814363636363637"
      ]
     },
     "execution_count": 40,
     "metadata": {},
     "output_type": "execute_result"
    }
   ],
   "source": [
    "predictions=tf.argmax(pred,1)                   \n",
    "correct_labels=tf.argmax(y,1)             \n",
    "correct_predictions=tf.equal(predictions,correct_labels)\n",
    "pred_eval,correct_pred=sess.run([predictions,correct_predictions],\n",
    "                                feed_dict={x:mnist.train.images,y:mnist.train.labels})\n",
    "correct_pred.sum()/55000"
   ]
  },
  {
   "cell_type": "code",
   "execution_count": 41,
   "id": "dietary-stephen",
   "metadata": {},
   "outputs": [],
   "source": [
    "# 86 % accuracy to 98% accuracy...."
   ]
  }
 ],
 "metadata": {
  "kernelspec": {
   "display_name": "newenv",
   "language": "python",
   "name": "newenv"
  },
  "language_info": {
   "codemirror_mode": {
    "name": "ipython",
    "version": 3
   },
   "file_extension": ".py",
   "mimetype": "text/x-python",
   "name": "python",
   "nbconvert_exporter": "python",
   "pygments_lexer": "ipython3",
   "version": "3.7.10"
  }
 },
 "nbformat": 4,
 "nbformat_minor": 5
}
